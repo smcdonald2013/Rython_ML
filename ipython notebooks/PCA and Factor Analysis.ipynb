{
 "cells": [
  {
   "cell_type": "markdown",
   "metadata": {},
   "source": [
    "# PCA vs Factor Analysis"
   ]
  },
  {
   "cell_type": "markdown",
   "metadata": {},
   "source": [
    "PCA and Factor Analysis are two commonly used techniques for decomposing a dataset into various components. The purpose of this tutorial is to show the differences between them and to demonstrate the various ways of calculating them. For both PCA and Factor Analysis, you begin with a dataset which we will denote as X, which has dimension n_samples x n_features"
   ]
  },
  {
   "cell_type": "markdown",
   "metadata": {},
   "source": [
    "## Generating Data"
   ]
  },
  {
   "cell_type": "code",
   "execution_count": 1,
   "metadata": {
    "collapsed": true
   },
   "outputs": [],
   "source": [
    "import numpy as np\n",
    "import pandas as pd\n",
    "np.random.seed(10)"
   ]
  },
  {
   "cell_type": "code",
   "execution_count": 2,
   "metadata": {
    "collapsed": true
   },
   "outputs": [],
   "source": [
    "def gen_data(n,p, sigma, sparsity):\n",
    "    mean_array = np.random.randn(p)\n",
    "    x_data = np.zeros([n, p])\n",
    "    for var in range(mean_array.shape[0]):\n",
    "        x_data[:,var] = np.random.normal(mean_array[var], 1, n)\n",
    "    error = np.random.normal(0, sigma, n)\n",
    "    beta = np.random.randn(p)\n",
    "    zero_vars = np.random.choice(p,int(p*sparsity),replace=False)\n",
    "    beta[zero_vars] = 0\n",
    "    y_data = np.dot(x_data, beta) + error\n",
    "    return x_data, y_data, beta"
   ]
  },
  {
   "cell_type": "code",
   "execution_count": 3,
   "metadata": {
    "collapsed": true
   },
   "outputs": [],
   "source": [
    "x_data, y_data, beta = gen_data(10, 5, .1, 0)"
   ]
  },
  {
   "cell_type": "code",
   "execution_count": 4,
   "metadata": {
    "collapsed": false
   },
   "outputs": [],
   "source": [
    "pd.DataFrame(x_data).to_csv('C:\\\\Users\\\\smcdo\\\\OneDrive\\\\Documents\\\\Machine Learning\\\\PCA_FA\\\\pca_data.csv')"
   ]
  },
  {
   "cell_type": "code",
   "execution_count": 5,
   "metadata": {
    "collapsed": false
   },
   "outputs": [],
   "source": [
    "x_data = pd.read_csv('C:\\\\Users\\\\smcdo\\\\OneDrive\\\\Documents\\\\Machine Learning\\\\PCA_FA\\\\pca_data.csv', index_col=0)"
   ]
  },
  {
   "cell_type": "markdown",
   "metadata": {},
   "source": [
    "## PCA"
   ]
  },
  {
   "cell_type": "markdown",
   "metadata": {},
   "source": [
    "### Preprocessing data for PCA"
   ]
  },
  {
   "cell_type": "markdown",
   "metadata": {},
   "source": [
    "There are 3 primary ways in which data is preprocessed for PCA. \n",
    "    1: Centered Data/Covariance Matrix PCA\n",
    "    2: Standardized Data/Correlation Matrix PCA\n",
    "    3: Scatter Matrix PCA\n",
    "There are lively discussions in online forums about the appropriate circumstances for each. From my personal experience, the scatter matrix is typically used in the domain of signal processing, while outside of this the covariance matrix approach is generally the default. The correlation matrix is probably most used in the domain of finance. It is important to note that the scatter matrix approach will result in the same eigenvectors as the covariance approach, with the eigenvalues simply rescaled. However, the correlation matrix approach will give different eigenvalues and eigenvectors than the other approaches. "
   ]
  },
  {
   "cell_type": "markdown",
   "metadata": {},
   "source": [
    "Calling methods 1 and 2 the covariance and correlation approach respectively can be somewhat confusing when the algorithms are actually implemented, since the dominant way of performing PCA in most statistical programs is by performing SVD on the data matrix, and thus the covariance/correlation matrices are never actually formed."
   ]
  },
  {
   "cell_type": "markdown",
   "metadata": {},
   "source": [
    "An additional attribute to consider is that the normalization for covariance can differ between programs. By default, numpy using N-1, however the princomp method of R uses N while prcomp uses N-1. "
   ]
  },
  {
   "cell_type": "markdown",
   "metadata": {},
   "source": [
    "### Covariance Approach"
   ]
  },
  {
   "cell_type": "markdown",
   "metadata": {},
   "source": [
    "#### SVD"
   ]
  },
  {
   "cell_type": "code",
   "execution_count": 21,
   "metadata": {
    "collapsed": false
   },
   "outputs": [
    {
     "name": "stdout",
     "output_type": "stream",
     "text": [
      "[ 2.20014773  0.95003737  0.48842918  0.30628167  0.02821756]\n",
      "[[ 0.06126369 -0.54354987  0.4002662  -0.51579183 -0.52397143]\n",
      " [-0.97107341 -0.11545552 -0.06200673  0.12013817 -0.15940027]\n",
      " [-0.13415203  0.74615515 -0.01620726 -0.62437785 -0.18747092]\n",
      " [ 0.06309191 -0.29041299 -0.89801317 -0.3179816  -0.06434095]\n",
      " [-0.17687804 -0.22391147  0.1710316  -0.47808536  0.81287169]]\n"
     ]
    }
   ],
   "source": [
    "x_cen   = x_data - np.mean(x_data, axis=0)\n",
    "U, S, V = np.linalg.svd(x_cen, full_matrices=True)\n",
    "eigenvalues = S**2/(x_data.shape[0]-1)\n",
    "eigenvectors = V\n",
    "print eigenvalues\n",
    "print eigenvectors.T #Take transpose so that the columns are the e-vecs, not rows"
   ]
  },
  {
   "cell_type": "markdown",
   "metadata": {},
   "source": [
    "#### Eigendecomposition"
   ]
  },
  {
   "cell_type": "code",
   "execution_count": 7,
   "metadata": {
    "collapsed": false
   },
   "outputs": [
    {
     "name": "stdout",
     "output_type": "stream",
     "text": [
      "[ 2.20014773  0.95003737  0.48842918  0.30628167  0.02821756]\n",
      "[[-0.06126369  0.54354987 -0.4002662   0.51579183 -0.52397143]\n",
      " [ 0.97107341  0.11545552  0.06200673 -0.12013817 -0.15940027]\n",
      " [ 0.13415203 -0.74615515  0.01620726  0.62437785 -0.18747092]\n",
      " [-0.06309191  0.29041299  0.89801317  0.3179816  -0.06434095]\n",
      " [ 0.17687804  0.22391147 -0.1710316   0.47808536  0.81287169]]\n"
     ]
    }
   ],
   "source": [
    "cov_mat                    = np.cov(x_data.T)\n",
    "eigenvalues, eigenvectors   = np.linalg.eig(cov_mat)\n",
    "idx = eigenvalues.argsort()[::-1] ###By default, eigenvalues are sorted by eig\n",
    "eigenvalues, eigenvectors = eigenvalues[idx], eigenvectors[:, idx]\n",
    "print eigenvalues\n",
    "print eigenvectors"
   ]
  },
  {
   "cell_type": "markdown",
   "metadata": {},
   "source": [
    "### Correlation Approach"
   ]
  },
  {
   "cell_type": "markdown",
   "metadata": {},
   "source": [
    "#### SVD"
   ]
  },
  {
   "cell_type": "code",
   "execution_count": 8,
   "metadata": {
    "collapsed": false
   },
   "outputs": [
    {
     "name": "stdout",
     "output_type": "stream",
     "text": [
      "[ 1.89773999  1.54165357  0.93226087  0.54899548  0.07935009]\n",
      "[[ 0.64031465  0.16710011 -0.33334414 -0.29000952 -0.60568215]\n",
      " [ 0.18988023 -0.66444334  0.32452721  0.50480114 -0.40288763]\n",
      " [-0.44120812 -0.47568252  0.03676212 -0.70683173 -0.27946197]\n",
      " [ 0.17534847  0.33786456  0.88413629 -0.25731788 -0.08479962]\n",
      " [ 0.57317621 -0.43608059  0.02270093 -0.30862065  0.62091925]]\n"
     ]
    }
   ],
   "source": [
    "x_stand = (x_data - np.mean(x_data, axis=0))/np.std(x_data, axis=0)\n",
    "U, S, V = np.linalg.svd(x_stand, full_matrices=True)\n",
    "eigenvalues = S**2/(x_data.shape[0])\n",
    "eigenvectors = V\n",
    "print eigenvalues\n",
    "print eigenvectors.T"
   ]
  },
  {
   "cell_type": "markdown",
   "metadata": {},
   "source": [
    "#### Eigendecomposition"
   ]
  },
  {
   "cell_type": "code",
   "execution_count": 19,
   "metadata": {
    "collapsed": false
   },
   "outputs": [
    {
     "name": "stdout",
     "output_type": "stream",
     "text": [
      "[ 1.89773999  1.54165357  0.93226087  0.54899548  0.07935009]\n",
      "[[ 0.64031465 -0.16710011 -0.33334414 -0.29000952 -0.60568215]\n",
      " [ 0.18988023  0.66444334  0.32452721  0.50480114 -0.40288763]\n",
      " [-0.44120812  0.47568252  0.03676212 -0.70683173 -0.27946197]\n",
      " [ 0.17534847 -0.33786456  0.88413629 -0.25731788 -0.08479962]\n",
      " [ 0.57317621  0.43608059  0.02270093 -0.30862065  0.62091925]]\n"
     ]
    }
   ],
   "source": [
    "#####Ranking eigenvalues\n",
    "corr_mat                    = np.corrcoef(x_data.T)\n",
    "eigenvalues, eigenvectors   = np.linalg.eig(corr_mat)\n",
    "idx = eigenvalues.argsort()[::-1] ###By default, eigenvalues are sorted by eig\n",
    "eigenvalues, eigenvectors = eigenvalues[idx], eigenvectors[:, idx]\n",
    "print eigenvalues\n",
    "print eigenvectors"
   ]
  },
  {
   "cell_type": "markdown",
   "metadata": {
    "collapsed": true
   },
   "source": [
    "### Scatter Matrix Approach"
   ]
  },
  {
   "cell_type": "markdown",
   "metadata": {},
   "source": [
    "#### Calculating Scatter Matrix"
   ]
  },
  {
   "cell_type": "code",
   "execution_count": 10,
   "metadata": {
    "collapsed": false
   },
   "outputs": [
    {
     "name": "stdout",
     "output_type": "stream",
     "text": [
      "[[  4.10783533  -0.90013119  -2.74635318   0.30684075   1.69857245]\n",
      " [ -0.90013119  18.84944365   1.64819079  -0.78440033   3.38429944]\n",
      " [ -2.74635318   1.64819079   6.20144733  -1.40606954  -0.18671468]\n",
      " [  0.30684075  -0.78440033  -1.40606954   4.62466988   0.06564476]\n",
      " [  1.69857245   3.38429944  -0.18671468   0.06564476   1.97462539]]\n",
      "[[ 0.45642615 -0.10001458 -0.30515035  0.03409342  0.18873027]\n",
      " [-0.10001458  2.09438263  0.18313231 -0.08715559  0.37603327]\n",
      " [-0.30515035  0.18313231  0.6890497  -0.15622995 -0.02074608]\n",
      " [ 0.03409342 -0.08715559 -0.15622995  0.51385221  0.00729386]\n",
      " [ 0.18873027  0.37603327 -0.02074608  0.00729386  0.21940282]]\n",
      "[[ 0.45642615 -0.10001458 -0.30515035  0.03409342  0.18873027]\n",
      " [-0.10001458  2.09438263  0.18313231 -0.08715559  0.37603327]\n",
      " [-0.30515035  0.18313231  0.6890497  -0.15622995 -0.02074608]\n",
      " [ 0.03409342 -0.08715559 -0.15622995  0.51385221  0.00729386]\n",
      " [ 0.18873027  0.37603327 -0.02074608  0.00729386  0.21940282]]\n"
     ]
    }
   ],
   "source": [
    "x_cen   = x_data - np.mean(x_data, axis=0)\n",
    "scatter_matrix = np.dot(x_cen.T,x_cen)\n",
    "cov_mat = np.cov(x_data.T)\n",
    "scaling_factor = (x_cen.shape[0]-1)\n",
    "print(scatter_matrix)\n",
    "print(cov_mat)\n",
    "print(scatter_matrix/scaling_factor) #The covariance matrix and scatter matrix only differ by a scaling factor"
   ]
  },
  {
   "cell_type": "markdown",
   "metadata": {},
   "source": [
    "#### SVD"
   ]
  },
  {
   "cell_type": "code",
   "execution_count": 11,
   "metadata": {
    "collapsed": false
   },
   "outputs": [],
   "source": [
    "#Not sure how to calculate using SVD for scatter matrix.\n",
    "#Possibly multiply centered x-matrix by scaling factor? "
   ]
  },
  {
   "cell_type": "markdown",
   "metadata": {},
   "source": [
    "#### Eigendecomposition"
   ]
  },
  {
   "cell_type": "code",
   "execution_count": 12,
   "metadata": {
    "collapsed": false
   },
   "outputs": [
    {
     "name": "stdout",
     "output_type": "stream",
     "text": [
      "[ 19.80132955   8.55033632   4.39586261   2.75653502   0.25395808]\n",
      "[[-0.06126369  0.54354987 -0.4002662   0.51579183 -0.52397143]\n",
      " [ 0.97107341  0.11545552  0.06200673 -0.12013817 -0.15940027]\n",
      " [ 0.13415203 -0.74615515  0.01620726  0.62437785 -0.18747092]\n",
      " [-0.06309191  0.29041299  0.89801317  0.3179816  -0.06434095]\n",
      " [ 0.17687804  0.22391147 -0.1710316   0.47808536  0.81287169]]\n",
      "[ 2.20014773  0.95003737  0.48842918  0.30628167  0.02821756]\n"
     ]
    }
   ],
   "source": [
    "eigenvalues, eigenvectors   = np.linalg.eig(scatter_matrix)\n",
    "idx = eigenvalues.argsort()[::-1] ###By default, eigenvalues are sorted by eig\n",
    "eigenvalues, eigenvectors = eigenvalues[idx], eigenvectors[:, idx]\n",
    "print eigenvalues\n",
    "print eigenvectors\n",
    "print eigenvalues/scaling_factor #Eigenvalues are scaled from covariance matrix e-vals. E-vecs are the same. "
   ]
  },
  {
   "cell_type": "markdown",
   "metadata": {},
   "source": [
    "### Transforming Data to Subspace"
   ]
  },
  {
   "cell_type": "code",
   "execution_count": 22,
   "metadata": {
    "collapsed": false
   },
   "outputs": [
    {
     "name": "stdout",
     "output_type": "stream",
     "text": [
      "[[-0.58701347  1.38087124 -0.73298879 -0.24416778 -0.17700114]\n",
      " [ 1.2557491  -0.17756418 -0.4208024   0.03508521 -0.26229986]\n",
      " [-0.32481639  0.79850844  0.19045021 -0.6189031  -0.04936224]\n",
      " [-1.3618096  -1.06572803 -1.29615727  0.01138227  0.20618183]\n",
      " [ 0.99932791  0.72453705  0.44068475  0.21630399  0.09157154]\n",
      " [ 2.09296991 -0.5905954  -0.47558679 -0.1559904   0.09059455]\n",
      " [ 1.83088759 -1.02349666  0.78452041 -0.1780157   0.02374913]\n",
      " [-0.23525483  0.78840749  0.16780478  1.33932008  0.07562878]\n",
      " [-2.28141496 -1.40417128  0.65341509  0.2060933  -0.20689931]\n",
      " [-1.38862526  0.56923132  0.68866001 -0.61110786  0.20783673]]\n"
     ]
    }
   ],
   "source": [
    "###Raw Calcs\n",
    "x_cen   = x_data - np.mean(x_data, axis=0) ###Use centered matrix!\n",
    "pc = np.dot(x_cen, eigenvectors.T)\n",
    "print pc\n",
    "#print eigenvectors"
   ]
  },
  {
   "cell_type": "code",
   "execution_count": 23,
   "metadata": {
    "collapsed": false
   },
   "outputs": [
    {
     "name": "stdout",
     "output_type": "stream",
     "text": [
      "[[ 0.58701347 -1.38087124  0.73298879 -0.24416778  0.17700114]\n",
      " [-1.2557491   0.17756418  0.4208024   0.03508521  0.26229986]\n",
      " [ 0.32481639 -0.79850844 -0.19045021 -0.6189031   0.04936224]\n",
      " [ 1.3618096   1.06572803  1.29615727  0.01138227 -0.20618183]\n",
      " [-0.99932791 -0.72453705 -0.44068475  0.21630399 -0.09157154]\n",
      " [-2.09296991  0.5905954   0.47558679 -0.1559904  -0.09059455]\n",
      " [-1.83088759  1.02349666 -0.78452041 -0.1780157  -0.02374913]\n",
      " [ 0.23525483 -0.78840749 -0.16780478  1.33932008 -0.07562878]\n",
      " [ 2.28141496  1.40417128 -0.65341509  0.2060933   0.20689931]\n",
      " [ 1.38862526 -0.56923132 -0.68866001 -0.61110786 -0.20783673]]\n"
     ]
    }
   ],
   "source": [
    "###SK Learn \n",
    "###This matches with the covariance approach!\n",
    "from sklearn import decomposition\n",
    "model = decomposition.PCA()\n",
    "pc = model.fit_transform(x_data)\n",
    "print pc\n",
    "#print model.components_"
   ]
  },
  {
   "cell_type": "code",
   "execution_count": 25,
   "metadata": {
    "collapsed": false
   },
   "outputs": [
    {
     "ename": "ImportError",
     "evalue": "No module named pca",
     "output_type": "error",
     "traceback": [
      "\u001b[1;31m---------------------------------------------------------------------------\u001b[0m",
      "\u001b[1;31mImportError\u001b[0m                               Traceback (most recent call last)",
      "\u001b[1;32m<ipython-input-25-21120695435b>\u001b[0m in \u001b[0;36m<module>\u001b[1;34m()\u001b[0m\n\u001b[0;32m      2\u001b[0m \u001b[1;32mimport\u001b[0m \u001b[0mos\u001b[0m\u001b[1;33m\u001b[0m\u001b[0m\n\u001b[0;32m      3\u001b[0m \u001b[0mos\u001b[0m\u001b[1;33m.\u001b[0m\u001b[0mchdir\u001b[0m\u001b[1;33m(\u001b[0m\u001b[1;34m'C:\\\\Users\\\\smcdo\\\\OneDrive\\\\Documents\\\\Model_Framework'\u001b[0m\u001b[1;33m)\u001b[0m\u001b[1;33m\u001b[0m\u001b[0m\n\u001b[1;32m----> 4\u001b[1;33m \u001b[1;32mimport\u001b[0m \u001b[0mpca\u001b[0m \u001b[1;32mas\u001b[0m \u001b[0mpca\u001b[0m\u001b[1;33m\u001b[0m\u001b[0m\n\u001b[0m\u001b[0;32m      5\u001b[0m \u001b[1;32mimport\u001b[0m \u001b[0mfactor_analysis\u001b[0m \u001b[1;32mas\u001b[0m \u001b[0mfa\u001b[0m\u001b[1;33m\u001b[0m\u001b[0m\n\u001b[0;32m      6\u001b[0m \u001b[0mget_ipython\u001b[0m\u001b[1;33m(\u001b[0m\u001b[1;33m)\u001b[0m\u001b[1;33m.\u001b[0m\u001b[0mmagic\u001b[0m\u001b[1;33m(\u001b[0m\u001b[1;34mu'pylab inline'\u001b[0m\u001b[1;33m)\u001b[0m\u001b[1;33m\u001b[0m\u001b[0m\n",
      "\u001b[1;31mImportError\u001b[0m: No module named pca"
     ]
    }
   ],
   "source": [
    "import pandas as pd\n",
    "import os\n",
    "os.chdir('C:\\\\Users\\\\smcdo\\\\OneDrive\\\\Documents\\\\Model_Framework')\n",
    "import pca as pca\n",
    "import factor_analysis as fa\n",
    "%pylab inline"
   ]
  },
  {
   "cell_type": "code",
   "execution_count": 26,
   "metadata": {
    "collapsed": false
   },
   "outputs": [
    {
     "ename": "NameError",
     "evalue": "name 'pca' is not defined",
     "output_type": "error",
     "traceback": [
      "\u001b[1;31m---------------------------------------------------------------------------\u001b[0m",
      "\u001b[1;31mNameError\u001b[0m                                 Traceback (most recent call last)",
      "\u001b[1;32m<ipython-input-26-065bf1460fe1>\u001b[0m in \u001b[0;36m<module>\u001b[1;34m()\u001b[0m\n\u001b[0;32m      1\u001b[0m \u001b[1;31m###Model Framework\u001b[0m\u001b[1;33m\u001b[0m\u001b[1;33m\u001b[0m\u001b[0m\n\u001b[1;32m----> 2\u001b[1;33m \u001b[0mmodel\u001b[0m \u001b[1;33m=\u001b[0m \u001b[0mpca\u001b[0m\u001b[1;33m.\u001b[0m\u001b[0mPCA\u001b[0m\u001b[1;33m(\u001b[0m\u001b[1;33m)\u001b[0m\u001b[1;33m\u001b[0m\u001b[0m\n\u001b[0m\u001b[0;32m      3\u001b[0m \u001b[0mmodel\u001b[0m\u001b[1;33m.\u001b[0m\u001b[0mfit\u001b[0m\u001b[1;33m(\u001b[0m\u001b[0mpd\u001b[0m\u001b[1;33m.\u001b[0m\u001b[0mDataFrame\u001b[0m\u001b[1;33m(\u001b[0m\u001b[0mx_data\u001b[0m\u001b[1;33m)\u001b[0m\u001b[1;33m)\u001b[0m\u001b[1;33m\u001b[0m\u001b[0m\n\u001b[0;32m      4\u001b[0m \u001b[0mpred\u001b[0m \u001b[1;33m=\u001b[0m \u001b[0mmodel\u001b[0m\u001b[1;33m.\u001b[0m\u001b[0mtransform\u001b[0m\u001b[1;33m(\u001b[0m\u001b[0mpd\u001b[0m\u001b[1;33m.\u001b[0m\u001b[0mDataFrame\u001b[0m\u001b[1;33m(\u001b[0m\u001b[0mx_data\u001b[0m\u001b[1;33m)\u001b[0m\u001b[1;33m)\u001b[0m\u001b[1;33m\u001b[0m\u001b[0m\n\u001b[0;32m      5\u001b[0m \u001b[1;32mprint\u001b[0m\u001b[1;33m(\u001b[0m\u001b[0mpred\u001b[0m\u001b[1;33m)\u001b[0m\u001b[1;33m\u001b[0m\u001b[0m\n",
      "\u001b[1;31mNameError\u001b[0m: name 'pca' is not defined"
     ]
    }
   ],
   "source": [
    "###Model Framework\n",
    "model = pca.PCA()\n",
    "model.fit(pd.DataFrame(x_data))\n",
    "pred = model.transform(pd.DataFrame(x_data))\n",
    "print(pred)"
   ]
  },
  {
   "cell_type": "markdown",
   "metadata": {
    "collapsed": true
   },
   "source": [
    "## Factor Analysis"
   ]
  },
  {
   "cell_type": "markdown",
   "metadata": {},
   "source": [
    "### Covariance Matrix"
   ]
  },
  {
   "cell_type": "code",
   "execution_count": null,
   "metadata": {
    "collapsed": false
   },
   "outputs": [],
   "source": [
    "###The communalities are the R2*variable variance\n",
    "cov_mat                    = np.cov(x_data.T)\n",
    "d_mat = np.linalg.inv(cov_mat)\n",
    "new_diag = np.diag(1/np.diag(d_mat))\n",
    "mat_s_d = np.dot(cov_mat, new_diag)\n",
    "communalities = np.diag(mat_s_d)"
   ]
  },
  {
   "cell_type": "markdown",
   "metadata": {},
   "source": [
    "### Correlation Matrix"
   ]
  },
  {
   "cell_type": "markdown",
   "metadata": {},
   "source": [
    "#### Principal Axis Factoring Method"
   ]
  },
  {
   "cell_type": "code",
   "execution_count": null,
   "metadata": {
    "collapsed": true
   },
   "outputs": [],
   "source": [
    "from sklearn import linear_model\n",
    "\n",
    "def EstimateCommunalities(data_df):\n",
    "    \"\"\"\n",
    "    Performs Initial Estimate of Communalities based on R-Squared. \n",
    "    Author\n",
    "    ----------\n",
    "    Stephen McDonald\n",
    "    Parameters\n",
    "    ----------\n",
    "    data_df      : pd.DataFrame\n",
    "        Dataframe containing data on which factor analysis should be performed, with dimensions n_samples x n_features\n",
    "    Returns\n",
    "    ------\n",
    "    list\n",
    "        List of r-squared output of regression. \n",
    "    \"\"\"\n",
    "    model = linear_model.LinearRegression(fit_intercept=True)\n",
    "    score_dict = {}\n",
    "    score_list = []\n",
    "    \n",
    "    for column in data_df:\n",
    "        y_var = data_df[column]\n",
    "        x_var = data_df.drop([column], axis=1)\n",
    "        model.fit(x_var, y_var)\n",
    "        r_squared = model.score(x_var, y_var)\n",
    "        score_dict[column] = r_squared\n",
    "        score_list.append(r_squared)\n",
    "        \n",
    "    return score_list"
   ]
  },
  {
   "cell_type": "code",
   "execution_count": null,
   "metadata": {
    "collapsed": true
   },
   "outputs": [],
   "source": [
    "def Eigendecomposition(data_df, score_list):\n",
    "    \"\"\"\n",
    "    Performs Initial Estimate of Communalities based on R-Squared. \n",
    "    Author\n",
    "    ----------\n",
    "    Stephen McDonald\n",
    "    Parameters\n",
    "    ----------\n",
    "    data_df      : pd.DataFrame\n",
    "        Dataframe containing data on which factor analysis should be performed, with dimensions n_samples x n_features\n",
    "    score_list   : list\n",
    "        List containing estimated communalities\n",
    "    Returns\n",
    "    ------\n",
    "    w            : numpy array\n",
    "        Matrix of eigenvectors\n",
    "    v            : list\n",
    "        List of eigenvalues\n",
    "    \"\"\"\n",
    "    corr_mat = np.corrcoef(data_df.T)\n",
    "    np.fill_diagonal(corr_mat, score_list)\n",
    "    corr_df = pd.DataFrame(corr_mat)\n",
    "    w, v, = np.linalg.eig(corr_df)\n",
    "    return w, v"
   ]
  },
  {
   "cell_type": "code",
   "execution_count": null,
   "metadata": {
    "collapsed": true
   },
   "outputs": [],
   "source": [
    "def CreateFactors(data_df, loading_matrix, eigenvalues, n_factors=1):\n",
    "    \"\"\"\n",
    "    Performs Initial Estimate of Communalities based on R-Squared. \n",
    "    Author\n",
    "    ----------\n",
    "    Stephen McDonald\n",
    "    Parameters\n",
    "    ----------\n",
    "    data_df      : pd.DataFrame\n",
    "        Dataframe containing data on which factor analysis should be performed, with dimensions n_samples x n_features\n",
    "    score_list   : list\n",
    "        List containing estimated communalities\n",
    "    Returns\n",
    "    ------\n",
    "    w            : numpy array\n",
    "        Matrix of eigenvectors\n",
    "    v            : list\n",
    "        List of eigenvalues\n",
    "    \"\"\"\n",
    "    loading_matrix = loading_matrix*np.sqrt(eigenvalues)\n",
    "    factor_scores = np.dot(np.linalg.inv(np.corrcoef(data_df.T)),loading_matrix[:,:n_factors])\n",
    "    data_demean = data_df - data_df.mean(axis=0)\n",
    "    data_std = data_demean/data_demean.std()\n",
    "    factor_df = pd.DataFrame(np.dot(data_std,factor_scores), index=data_std.index)\n",
    "    return factor_df"
   ]
  },
  {
   "cell_type": "code",
   "execution_count": null,
   "metadata": {
    "collapsed": false
   },
   "outputs": [],
   "source": [
    "x_data_df = pd.DataFrame(x_data)\n",
    "corr_mat                    = np.corrcoef(x_data_df.T)\n",
    "communalities              = EstimateCommunalities(pd.DataFrame(x_data_df))\n",
    "eigenvalues, loading_matrix = Eigendecomposition(x_data_df, communalities)\n",
    "factor_df = CreateFactors(x_data_df, loading_matrix, eigenvalues, n_factors=x_data.shape[1])"
   ]
  },
  {
   "cell_type": "markdown",
   "metadata": {
    "collapsed": true
   },
   "source": [
    "#### MLE Method"
   ]
  },
  {
   "cell_type": "code",
   "execution_count": null,
   "metadata": {
    "collapsed": false
   },
   "outputs": [],
   "source": [
    "model = sk.decomposition.FactorAnalysis()\n",
    "pc = model.fit_transform(x_data)\n",
    "print pc"
   ]
  },
  {
   "cell_type": "code",
   "execution_count": null,
   "metadata": {
    "collapsed": true
   },
   "outputs": [],
   "source": []
  }
 ],
 "metadata": {
  "kernelspec": {
   "display_name": "Python [Root]",
   "language": "python",
   "name": "Python [Root]"
  },
  "language_info": {
   "codemirror_mode": {
    "name": "ipython",
    "version": 2
   },
   "file_extension": ".py",
   "mimetype": "text/x-python",
   "name": "python",
   "nbconvert_exporter": "python",
   "pygments_lexer": "ipython2",
   "version": "2.7.11"
  }
 },
 "nbformat": 4,
 "nbformat_minor": 0
}
