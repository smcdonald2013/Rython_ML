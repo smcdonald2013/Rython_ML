{
 "cells": [
  {
   "cell_type": "markdown",
   "metadata": {},
   "source": [
    "# SVM "
   ]
  },
  {
   "cell_type": "markdown",
   "metadata": {},
   "source": [
    "Support vector machines are popular approaches for classification and regression. They are particularly popular for the ease with which they can incorporate non-linearity through the use of kernels, in particular the RBF kernel. Python's sci-kit learn provides an interface to the popular LibSVM and LibLinear C++ implementations. e1071 in R provides an interface to LibSVM as well, making it very easy to replicate results between the two. Note that you should always standardize data used in SVM. One downside of SVMs is that they do not scale well, generally limited to samples in the thousands rather than tens of thousands, if a proper grid search of parameters is to be performed. "
   ]
  },
  {
   "cell_type": "markdown",
   "metadata": {},
   "source": [
    "## Pulling Data and Imports "
   ]
  },
  {
   "cell_type": "code",
   "execution_count": 7,
   "metadata": {
    "collapsed": false
   },
   "outputs": [
    {
     "name": "stdout",
     "output_type": "stream",
     "text": [
      "Populating the interactive namespace from numpy and matplotlib\n"
     ]
    }
   ],
   "source": [
    "import pandas as pd\n",
    "from sklearn import svm\n",
    "from sklearn import model_selection\n",
    "from sklearn import preprocessing\n",
    "from sklearn import metrics\n",
    "%pylab inline"
   ]
  },
  {
   "cell_type": "code",
   "execution_count": 8,
   "metadata": {
    "collapsed": false
   },
   "outputs": [],
   "source": [
    "x_data = pd.read_csv('C:\\\\Users\\\\smcdo\\\\OneDrive\\\\Documents\\\\Model_Framework\\\\Benchmarks\\\\x_data.csv', index_col=0)\n",
    "y_data = pd.read_csv('C:\\\\Users\\\\smcdo\\\\OneDrive\\\\Documents\\\\Model_Framework\\\\Benchmarks\\\\y_data.csv', index_col=0, squeeze=True)"
   ]
  },
  {
   "cell_type": "markdown",
   "metadata": {},
   "source": [
    "### SVM Regression"
   ]
  },
  {
   "cell_type": "markdown",
   "metadata": {},
   "source": [
    "### Linear Kernel (LibSVM)"
   ]
  },
  {
   "cell_type": "code",
   "execution_count": 13,
   "metadata": {
    "collapsed": false,
    "scrolled": true
   },
   "outputs": [
    {
     "name": "stdout",
     "output_type": "stream",
     "text": [
      "1 loop, best of 3: 6.68 s per loop\n",
      "Fitted Values: [-2.36468398  3.85682403  1.81944099 ..., -1.52230135 -0.37722462\n",
      "  1.39538166]\n"
     ]
    }
   ],
   "source": [
    "svm_mod = svm.SVR(kernel='linear', tol=0.0001, C=1.0, epsilon=0.1, shrinking=True, cache_size=200)\n",
    "%timeit  svm_mod.fit(x_data, y_data)\n",
    "fitted_vals = svm_mod.predict(x_data)\n",
    "print('Fitted Values: %s' % fitted_vals)"
   ]
  },
  {
   "cell_type": "markdown",
   "metadata": {},
   "source": [
    "### Linear Kernel (LibLinear)"
   ]
  },
  {
   "cell_type": "code",
   "execution_count": 14,
   "metadata": {
    "collapsed": false
   },
   "outputs": [
    {
     "name": "stdout",
     "output_type": "stream",
     "text": [
      "1 loop, best of 3: 326 ms per loop\n",
      "Fitted Values: [-2.36294961  3.85065666  1.81657867 ..., -1.52076929 -0.37782716\n",
      "  1.39027483]\n"
     ]
    }
   ],
   "source": [
    "#x_stand = preprocessing.StandardScaler(x_data)\n",
    "svm_mod = svm.LinearSVR(tol=0.0001, C=1.0, epsilon=0.1)\n",
    "%timeit  svm_mod.fit(x_data, y_data)\n",
    "fitted_vals = svm_mod.predict(x_data)\n",
    "print('Fitted Values: %s' % fitted_vals)"
   ]
  },
  {
   "cell_type": "markdown",
   "metadata": {},
   "source": [
    "### RBF Kernel (LibSVM)"
   ]
  },
  {
   "cell_type": "code",
   "execution_count": 15,
   "metadata": {
    "collapsed": false
   },
   "outputs": [
    {
     "name": "stdout",
     "output_type": "stream",
     "text": [
      "1 loop, best of 3: 7.16 s per loop\n",
      "Fitted Values: [-2.34312897  3.87952142  1.79411853 ..., -1.51426592 -0.34624601\n",
      "  1.38995285]\n"
     ]
    }
   ],
   "source": [
    "svm_mod = svm.SVR(kernel='rbf', tol=0.0001, C=1.0, epsilon=0.1, gamma=0.1, shrinking=False, cache_size=200)\n",
    "%timeit svm_mod.fit(x_data, y_data)\n",
    "fitted_vals = svm_mod.predict(x_data)\n",
    "print('Fitted Values: %s' % fitted_vals)"
   ]
  },
  {
   "cell_type": "markdown",
   "metadata": {},
   "source": [
    "### RBF Kernel (CV)"
   ]
  },
  {
   "cell_type": "code",
   "execution_count": 16,
   "metadata": {
    "collapsed": false
   },
   "outputs": [
    {
     "name": "stdout",
     "output_type": "stream",
     "text": [
      "Fitted Values: [-2.34387759  3.93464834  1.84249673 ..., -1.55036    -0.38265523\n",
      "  1.38974087]\n",
      "MSE: 0.998273125082\n",
      "CV Params: {'epsilon': 0.1, 'C': 16, 'gamma': 0.5, 'kernel': 'rbf'}\n",
      "CV Grid Score: [mean: 0.98364, std: 0.00433, params: {'epsilon': 0.1, 'C': 4, 'gamma': 0.5, 'kernel': 'rbf'}, mean: 0.95481, std: 0.00979, params: {'epsilon': 0.1, 'C': 4, 'gamma': 1, 'kernel': 'rbf'}, mean: 0.88201, std: 0.01413, params: {'epsilon': 0.1, 'C': 4, 'gamma': 2, 'kernel': 'rbf'}, mean: 0.98477, std: 0.00368, params: {'epsilon': 0.1, 'C': 8, 'gamma': 0.5, 'kernel': 'rbf'}, mean: 0.95604, std: 0.00926, params: {'epsilon': 0.1, 'C': 8, 'gamma': 1, 'kernel': 'rbf'}, mean: 0.88417, std: 0.01408, params: {'epsilon': 0.1, 'C': 8, 'gamma': 2, 'kernel': 'rbf'}, mean: 0.98490, std: 0.00362, params: {'epsilon': 0.1, 'C': 16, 'gamma': 0.5, 'kernel': 'rbf'}, mean: 0.95594, std: 0.00925, params: {'epsilon': 0.1, 'C': 16, 'gamma': 1, 'kernel': 'rbf'}, mean: 0.88413, std: 0.01407, params: {'epsilon': 0.1, 'C': 16, 'gamma': 2, 'kernel': 'rbf'}]\n"
     ]
    },
    {
     "name": "stderr",
     "output_type": "stream",
     "text": [
      "C:\\Users\\smcdo\\Anaconda2\\lib\\site-packages\\sklearn\\model_selection\\_search.py:662: DeprecationWarning: The grid_scores_ attribute was deprecated in version 0.18 in favor of the more elaborate cv_results_ attribute. The grid_scores_ attribute will not be available from 0.20\n",
      "  DeprecationWarning)\n"
     ]
    }
   ],
   "source": [
    "param_grid = [{'C': [4, 8, 16], 'gamma': [.5, 1, 2], 'kernel': ['rbf'], 'epsilon': [.1]}]\n",
    "base_model = svm.SVR()\n",
    "model = model_selection.GridSearchCV(base_model, param_grid, cv=5)\n",
    "model.fit(x_data,y_data)\n",
    "pred = model.predict(x_data)\n",
    "score = model.score(x_data,y_data)\n",
    "print('Fitted Values: %s' % pred)\n",
    "print('MSE: %s' % score)\n",
    "print('CV Params: %s' % model.best_params_)\n",
    "print('CV Grid Score: %s' % model.grid_scores_)"
   ]
  },
  {
   "cell_type": "markdown",
   "metadata": {},
   "source": [
    "### Machine Learning Interface"
   ]
  },
  {
   "cell_type": "code",
   "execution_count": null,
   "metadata": {
    "collapsed": false
   },
   "outputs": [],
   "source": [
    "import Machine_Learning_Interface.svm_regression as sm\n",
    "model = sm.SVR(scale=True, kernel='rbf', parameters=[{'C' : np.logspace(-3, 3, 7), 'epsilon' : np.logspace(-3, 3, 7)}], cv_folds=3)\n",
    "model.fit(x_data,y_data)\n",
    "pred = model.predict(x_data)\n",
    "score = metrics.mean_squared_error(pred, y_data)\n",
    "model.diagnostics()\n",
    "print('Fitted Values: %s' % pred)\n",
    "print('MSE: %s' % score)"
   ]
  },
  {
   "cell_type": "code",
   "execution_count": null,
   "metadata": {
    "collapsed": true
   },
   "outputs": [],
   "source": []
  }
 ],
 "metadata": {
  "anaconda-cloud": {},
  "kernelspec": {
   "display_name": "Python [Root]",
   "language": "python",
   "name": "Python [Root]"
  },
  "language_info": {
   "codemirror_mode": {
    "name": "ipython",
    "version": 2
   },
   "file_extension": ".py",
   "mimetype": "text/x-python",
   "name": "python",
   "nbconvert_exporter": "python",
   "pygments_lexer": "ipython2",
   "version": "2.7.11"
  }
 },
 "nbformat": 4,
 "nbformat_minor": 0
}
