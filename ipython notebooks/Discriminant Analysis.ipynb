{
 "cells": [
  {
   "cell_type": "markdown",
   "metadata": {},
   "source": [
    "# LDA/QDA/Naive Bayes"
   ]
  },
  {
   "cell_type": "markdown",
   "metadata": {},
   "source": [
    "LDA, QDA, and Naive Bayes are all Gaussian classification techniques. Naive Bayes assumes the features are conditionally independent, LDA assumes they are Gaussian with varying means but the same covariance, and QDA assumes Gaussian but with varying covariance.  "
   ]
  },
  {
   "cell_type": "markdown",
   "metadata": {},
   "source": [
    "## Pulling Data and Imports "
   ]
  },
  {
   "cell_type": "code",
   "execution_count": 6,
   "metadata": {
    "collapsed": false
   },
   "outputs": [
    {
     "name": "stdout",
     "output_type": "stream",
     "text": [
      "Populating the interactive namespace from numpy and matplotlib\n"
     ]
    }
   ],
   "source": [
    "import pandas as pd\n",
    "from sklearn import discriminant_analysis\n",
    "from sklearn import naive_bayes\n",
    "%pylab inline"
   ]
  },
  {
   "cell_type": "code",
   "execution_count": 7,
   "metadata": {
    "collapsed": false
   },
   "outputs": [],
   "source": [
    "x_data = pd.read_csv('C:\\\\Users\\\\smcdo\\\\OneDrive\\\\Documents\\\\Model_Framework\\\\Benchmarks\\\\x_data.csv', index_col=0)\n",
    "y_data = pd.read_csv('C:\\\\Users\\\\smcdo\\\\OneDrive\\\\Documents\\\\Model_Framework\\\\Benchmarks\\\\y_data.csv', index_col=0, squeeze=True)"
   ]
  },
  {
   "cell_type": "markdown",
   "metadata": {},
   "source": [
    "### Converting to Binary Decision"
   ]
  },
  {
   "cell_type": "code",
   "execution_count": 8,
   "metadata": {
    "collapsed": true
   },
   "outputs": [],
   "source": [
    "y_class = y_data\n",
    "y_class[y_class < 0] = 0\n",
    "y_class[y_class > 0] = 1"
   ]
  },
  {
   "cell_type": "markdown",
   "metadata": {},
   "source": [
    "## LDA"
   ]
  },
  {
   "cell_type": "code",
   "execution_count": 10,
   "metadata": {
    "collapsed": false
   },
   "outputs": [
    {
     "name": "stdout",
     "output_type": "stream",
     "text": [
      "Fitted Values: [ 0.  1.  1. ...,  0.  0.  1.]\n"
     ]
    }
   ],
   "source": [
    "model = discriminant_analysis.LinearDiscriminantAnalysis(solver='svd', shrinkage=None)\n",
    "model.fit(x_data, y_class)\n",
    "pred = model.predict(x_data)\n",
    "print('Fitted Values: %s' % pred)"
   ]
  },
  {
   "cell_type": "code",
   "execution_count": 12,
   "metadata": {
    "collapsed": false
   },
   "outputs": [
    {
     "name": "stderr",
     "output_type": "stream",
     "text": [
      "C:\\Users\\smcdo\\Anaconda2\\lib\\site-packages\\sklearn\\lda.py:4: DeprecationWarning: lda.LDA has been moved to discriminant_analysis.LinearDiscriminantAnalysis in 0.17 and will be removed in 0.19\n",
      "  \"in 0.17 and will be removed in 0.19\", DeprecationWarning)\n"
     ]
    },
    {
     "name": "stdout",
     "output_type": "stream",
     "text": [
      "Fitted Values: 0       0.0\n",
      "1       1.0\n",
      "2       1.0\n",
      "3       1.0\n",
      "4       1.0\n",
      "5       0.0\n",
      "6       1.0\n",
      "7       1.0\n",
      "8       0.0\n",
      "9       1.0\n",
      "10      1.0\n",
      "11      0.0\n",
      "12      0.0\n",
      "13      1.0\n",
      "14      0.0\n",
      "15      0.0\n",
      "16      1.0\n",
      "17      0.0\n",
      "18      1.0\n",
      "19      1.0\n",
      "20      1.0\n",
      "21      0.0\n",
      "22      1.0\n",
      "23      1.0\n",
      "24      1.0\n",
      "25      1.0\n",
      "26      0.0\n",
      "27      1.0\n",
      "28      1.0\n",
      "29      1.0\n",
      "       ... \n",
      "9970    0.0\n",
      "9971    1.0\n",
      "9972    1.0\n",
      "9973    0.0\n",
      "9974    1.0\n",
      "9975    1.0\n",
      "9976    0.0\n",
      "9977    0.0\n",
      "9978    1.0\n",
      "9979    0.0\n",
      "9980    1.0\n",
      "9981    0.0\n",
      "9982    0.0\n",
      "9983    1.0\n",
      "9984    1.0\n",
      "9985    1.0\n",
      "9986    1.0\n",
      "9987    1.0\n",
      "9988    1.0\n",
      "9989    1.0\n",
      "9990    1.0\n",
      "9991    0.0\n",
      "9992    1.0\n",
      "9993    1.0\n",
      "9994    1.0\n",
      "9995    0.0\n",
      "9996    0.0\n",
      "9997    0.0\n",
      "9998    0.0\n",
      "9999    1.0\n",
      "Name: predictions, dtype: float64\n"
     ]
    }
   ],
   "source": [
    "from Machine_Learning_Interface import lda_classification as lda\n",
    "model = lda.LDA(scale=False, intercept=False, prob=False)\n",
    "model.fit(x_data, y_class)\n",
    "pred = model.predict(x_data)\n",
    "print('Fitted Values: %s' % pred)"
   ]
  },
  {
   "cell_type": "markdown",
   "metadata": {},
   "source": [
    "## QDA"
   ]
  },
  {
   "cell_type": "code",
   "execution_count": 11,
   "metadata": {
    "collapsed": false
   },
   "outputs": [
    {
     "name": "stdout",
     "output_type": "stream",
     "text": [
      "Fitted Values: [ 0.  1.  1. ...,  0.  0.  1.]\n"
     ]
    }
   ],
   "source": [
    "model = discriminant_analysis.QuadraticDiscriminantAnalysis()\n",
    "model.fit(x_data, y_class)\n",
    "pred = model.predict(x_data)\n",
    "print('Fitted Values: %s' % pred)"
   ]
  },
  {
   "cell_type": "markdown",
   "metadata": {},
   "source": [
    "## Naive Bayes"
   ]
  },
  {
   "cell_type": "code",
   "execution_count": 11,
   "metadata": {
    "collapsed": false
   },
   "outputs": [
    {
     "data": {
      "text/plain": [
       "GaussianNB(priors=None)"
      ]
     },
     "execution_count": 11,
     "metadata": {},
     "output_type": "execute_result"
    }
   ],
   "source": [
    "model = naive_bayes.GaussianNB()\n",
    "model.fit(x_data, y_data)\n",
    "pred = model.predict(x_data)\n",
    "print('Fitted Values: %s' % pred)"
   ]
  },
  {
   "cell_type": "code",
   "execution_count": null,
   "metadata": {
    "collapsed": true
   },
   "outputs": [],
   "source": []
  }
 ],
 "metadata": {
  "kernelspec": {
   "display_name": "Python [Root]",
   "language": "python",
   "name": "Python [Root]"
  },
  "language_info": {
   "codemirror_mode": {
    "name": "ipython",
    "version": 2
   },
   "file_extension": ".py",
   "mimetype": "text/x-python",
   "name": "python",
   "nbconvert_exporter": "python",
   "pygments_lexer": "ipython2",
   "version": "2.7.11"
  }
 },
 "nbformat": 4,
 "nbformat_minor": 0
}
