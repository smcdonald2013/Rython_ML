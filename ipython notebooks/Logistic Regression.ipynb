{
 "cells": [
  {
   "cell_type": "markdown",
   "metadata": {},
   "source": [
    "# Logistic Regression"
   ]
  },
  {
   "cell_type": "markdown",
   "metadata": {},
   "source": [
    "Logistic regression is the classic method for binary classification. It assumes the log-odds are linear in the parameters. It does not have a closed-form solution, but can be solved using a variety of iterative approaches. Sklearn only implements regularized logistic regression, so replicating results from R's glm function requires using statsmodels. "
   ]
  },
  {
   "cell_type": "markdown",
   "metadata": {},
   "source": [
    "## Pulling Data and Imports "
   ]
  },
  {
   "cell_type": "code",
   "execution_count": 5,
   "metadata": {
    "collapsed": false
   },
   "outputs": [
    {
     "name": "stdout",
     "output_type": "stream",
     "text": [
      "Populating the interactive namespace from numpy and matplotlib\n"
     ]
    }
   ],
   "source": [
    "import pandas as pd\n",
    "import statsmodels.api as sm\n",
    "from sklearn import linear_model\n",
    "%pylab inline"
   ]
  },
  {
   "cell_type": "code",
   "execution_count": 6,
   "metadata": {
    "collapsed": true
   },
   "outputs": [],
   "source": [
    "x_data = pd.read_csv('C:\\\\Users\\\\smcdo\\\\OneDrive\\\\Documents\\\\Model_Framework\\\\Benchmarks\\\\x_data.csv', index_col=0)\n",
    "y_data = pd.read_csv('C:\\\\Users\\\\smcdo\\\\OneDrive\\\\Documents\\\\Model_Framework\\\\Benchmarks\\\\y_data.csv', index_col=0, squeeze=True)"
   ]
  },
  {
   "cell_type": "markdown",
   "metadata": {},
   "source": [
    "### Converting to binary decision"
   ]
  },
  {
   "cell_type": "code",
   "execution_count": 7,
   "metadata": {
    "collapsed": false
   },
   "outputs": [],
   "source": [
    "y_class = y_data\n",
    "y_class[y_class < 0] = 0\n",
    "y_class[y_class > 0] = 1"
   ]
  },
  {
   "cell_type": "markdown",
   "metadata": {},
   "source": [
    "## Stats Models Implementation (unregularized logistic regression)"
   ]
  },
  {
   "cell_type": "code",
   "execution_count": 21,
   "metadata": {
    "collapsed": false
   },
   "outputs": [
    {
     "name": "stdout",
     "output_type": "stream",
     "text": [
      "Estimated Log-Odds: const     0.235086\n",
      "0         3.122619\n",
      "1       -14.401699\n",
      "2       -21.903897\n",
      "3         1.755968\n",
      "4       -24.613408\n",
      "dtype: float64\n",
      "Estimated Odds-Ratio: [1.2650171329308617, 22.705763084782294, 5.5644391269448954e-07, 3.070847668091682e-10, 5.7890476127334631, 2.0442439444063939e-11]\n",
      "Fitted Values: [  4.84390764e-18   1.00000000e+00   1.00000000e+00 ...,   9.12941021e-12\n",
      "   2.01635794e-03   1.00000000e+00]\n"
     ]
    }
   ],
   "source": [
    "X = sm.add_constant(x_data)\n",
    "model = sm.GLM(y_class, X, family=sm.families.Binomial())\n",
    "fit = model.fit()\n",
    "pred = model.predict(params=fit.params, exog=X)\n",
    "print('Estimated Log-Odds: %s' % fit.params)\n",
    "print('Estimated Odds-Ratio: %s' % [np.exp(x) for x in fit.params])\n",
    "print('Fitted Values: %s' % pred)"
   ]
  },
  {
   "cell_type": "markdown",
   "metadata": {},
   "source": [
    "## Sklearn Implementation (regularized logistic regression)"
   ]
  },
  {
   "cell_type": "code",
   "execution_count": 20,
   "metadata": {
    "collapsed": false
   },
   "outputs": [
    {
     "name": "stdout",
     "output_type": "stream",
     "text": [
      "Estimated Log-Odds: [ 0.23456251]\n",
      "Estimated Log-Odds: [[  3.10921935 -14.34058538 -21.81093979   1.74851154 -24.50901498]]\n",
      "Fitted Values: [ 0.  1.  1. ...,  0.  0.  1.]\n"
     ]
    }
   ],
   "source": [
    "model = linear_model.LogisticRegression(penalty='l2', C=10000, intercept_scaling=1)\n",
    "model.fit(x_data,y_class)\n",
    "pred = model.predict(x_data)\n",
    "print('Estimated Log-Odds: %s' % regr.intercept_)\n",
    "print('Estimated Log-Odds: %s' % regr.coef_)\n",
    "print('Fitted Values: %s' % pred)"
   ]
  },
  {
   "cell_type": "markdown",
   "metadata": {},
   "source": [
    "## Machine Learning Interface"
   ]
  },
  {
   "cell_type": "markdown",
   "metadata": {},
   "source": [
    "### No Penalization (Statsmodels)"
   ]
  },
  {
   "cell_type": "code",
   "execution_count": 29,
   "metadata": {
    "collapsed": false,
    "scrolled": true
   },
   "outputs": [
    {
     "name": "stdout",
     "output_type": "stream",
     "text": [
      "Fitted Values: 0       0\n",
      "1       1\n",
      "2       1\n",
      "3       1\n",
      "4       1\n",
      "5       0\n",
      "6       1\n",
      "7       1\n",
      "8       0\n",
      "9       1\n",
      "10      1\n",
      "11      0\n",
      "12      0\n",
      "13      1\n",
      "14      0\n",
      "15      0\n",
      "16      1\n",
      "17      0\n",
      "18      1\n",
      "19      1\n",
      "20      1\n",
      "21      0\n",
      "22      1\n",
      "23      1\n",
      "24      1\n",
      "25      1\n",
      "26      0\n",
      "27      1\n",
      "28      1\n",
      "29      1\n",
      "       ..\n",
      "9970    0\n",
      "9971    1\n",
      "9972    0\n",
      "9973    0\n",
      "9974    1\n",
      "9975    1\n",
      "9976    0\n",
      "9977    0\n",
      "9978    1\n",
      "9979    0\n",
      "9980    1\n",
      "9981    0\n",
      "9982    0\n",
      "9983    1\n",
      "9984    1\n",
      "9985    1\n",
      "9986    1\n",
      "9987    1\n",
      "9988    1\n",
      "9989    1\n",
      "9990    1\n",
      "9991    0\n",
      "9992    1\n",
      "9993    1\n",
      "9994    1\n",
      "9995    0\n",
      "9996    0\n",
      "9997    0\n",
      "9998    0\n",
      "9999    1\n",
      "Name: predictions, dtype: int64\n"
     ]
    }
   ],
   "source": [
    "from Machine_Learning_Interface import logistic_regression as lr\n",
    "model = lr.LogisticRegression(intercept=False, scale=False, cv_folds=None, penalized=False, prob=False)\n",
    "model.fit(x_data,y_data)\n",
    "pred = model.predict(x_data)\n",
    "model.diagnostics()\n",
    "print('Fitted Values: %s' % pred)"
   ]
  },
  {
   "cell_type": "markdown",
   "metadata": {},
   "source": [
    "### Penalization and CV (Sklearn Implementation)"
   ]
  },
  {
   "cell_type": "code",
   "execution_count": 30,
   "metadata": {
    "collapsed": false
   },
   "outputs": [
    {
     "name": "stdout",
     "output_type": "stream",
     "text": [
      "Fitted Values: 0       0.0\n",
      "1       1.0\n",
      "2       1.0\n",
      "3       1.0\n",
      "4       1.0\n",
      "5       0.0\n",
      "6       1.0\n",
      "7       1.0\n",
      "8       0.0\n",
      "9       1.0\n",
      "10      1.0\n",
      "11      0.0\n",
      "12      0.0\n",
      "13      1.0\n",
      "14      0.0\n",
      "15      0.0\n",
      "16      1.0\n",
      "17      0.0\n",
      "18      1.0\n",
      "19      1.0\n",
      "20      1.0\n",
      "21      0.0\n",
      "22      1.0\n",
      "23      1.0\n",
      "24      1.0\n",
      "25      1.0\n",
      "26      0.0\n",
      "27      1.0\n",
      "28      1.0\n",
      "29      1.0\n",
      "       ... \n",
      "9970    0.0\n",
      "9971    1.0\n",
      "9972    0.0\n",
      "9973    0.0\n",
      "9974    1.0\n",
      "9975    1.0\n",
      "9976    0.0\n",
      "9977    0.0\n",
      "9978    1.0\n",
      "9979    0.0\n",
      "9980    1.0\n",
      "9981    0.0\n",
      "9982    0.0\n",
      "9983    1.0\n",
      "9984    1.0\n",
      "9985    1.0\n",
      "9986    1.0\n",
      "9987    1.0\n",
      "9988    1.0\n",
      "9989    1.0\n",
      "9990    1.0\n",
      "9991    0.0\n",
      "9992    1.0\n",
      "9993    1.0\n",
      "9994    1.0\n",
      "9995    0.0\n",
      "9996    0.0\n",
      "9997    0.0\n",
      "9998    0.0\n",
      "9999    1.0\n",
      "Name: predictions, dtype: float64\n"
     ]
    }
   ],
   "source": [
    "from Machine_Learning_Interface import logistic_regression as lr\n",
    "model = lr.LogisticRegression(intercept=False, scale=False, cv_folds=3, penalized=True, prob=False)\n",
    "model.fit(x_data,y_data)\n",
    "pred = model.predict(x_data)\n",
    "model.diagnostics()\n",
    "print('Fitted Values: %s' % pred)"
   ]
  },
  {
   "cell_type": "code",
   "execution_count": null,
   "metadata": {
    "collapsed": true
   },
   "outputs": [],
   "source": []
  }
 ],
 "metadata": {
  "kernelspec": {
   "display_name": "Python [Root]",
   "language": "python",
   "name": "Python [Root]"
  },
  "language_info": {
   "codemirror_mode": {
    "name": "ipython",
    "version": 2
   },
   "file_extension": ".py",
   "mimetype": "text/x-python",
   "name": "python",
   "nbconvert_exporter": "python",
   "pygments_lexer": "ipython2",
   "version": "2.7.11"
  }
 },
 "nbformat": 4,
 "nbformat_minor": 0
}
